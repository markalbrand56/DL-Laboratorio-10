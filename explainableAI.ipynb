{
 "cells": [
  {
   "cell_type": "code",
   "outputs": [
    {
     "name": "stdout",
     "output_type": "stream",
     "text": [
      "Requirement already satisfied: xgboost in /Users/javi.fong/Documents/envs/tensorflow-env/lib/python3.11/site-packages (2.1.2)\r\n",
      "Requirement already satisfied: shap in /Users/javi.fong/Documents/envs/tensorflow-env/lib/python3.11/site-packages (0.46.0)\r\n",
      "Requirement already satisfied: utils in /Users/javi.fong/Documents/envs/tensorflow-env/lib/python3.11/site-packages (1.0.2)\r\n",
      "Requirement already satisfied: numpy in /Users/javi.fong/Documents/envs/tensorflow-env/lib/python3.11/site-packages (from xgboost) (1.26.4)\r\n",
      "Requirement already satisfied: scipy in /Users/javi.fong/Documents/envs/tensorflow-env/lib/python3.11/site-packages (from xgboost) (1.13.1)\r\n",
      "Requirement already satisfied: scikit-learn in /Users/javi.fong/Documents/envs/tensorflow-env/lib/python3.11/site-packages (from shap) (1.5.2)\r\n",
      "Requirement already satisfied: pandas in /Users/javi.fong/Documents/envs/tensorflow-env/lib/python3.11/site-packages (from shap) (2.2.3)\r\n",
      "Requirement already satisfied: tqdm>=4.27.0 in /Users/javi.fong/Documents/envs/tensorflow-env/lib/python3.11/site-packages (from shap) (4.66.5)\r\n",
      "Requirement already satisfied: packaging>20.9 in /Users/javi.fong/Documents/envs/tensorflow-env/lib/python3.11/site-packages (from shap) (24.1)\r\n",
      "Requirement already satisfied: slicer==0.0.8 in /Users/javi.fong/Documents/envs/tensorflow-env/lib/python3.11/site-packages (from shap) (0.0.8)\r\n",
      "Requirement already satisfied: numba in /Users/javi.fong/Documents/envs/tensorflow-env/lib/python3.11/site-packages (from shap) (0.60.0)\r\n",
      "Requirement already satisfied: cloudpickle in /Users/javi.fong/Documents/envs/tensorflow-env/lib/python3.11/site-packages (from shap) (3.1.0)\r\n",
      "Requirement already satisfied: llvmlite<0.44,>=0.43.0dev0 in /Users/javi.fong/Documents/envs/tensorflow-env/lib/python3.11/site-packages (from numba->shap) (0.43.0)\r\n",
      "Requirement already satisfied: python-dateutil>=2.8.2 in /Users/javi.fong/Documents/envs/tensorflow-env/lib/python3.11/site-packages (from pandas->shap) (2.9.0.post0)\r\n",
      "Requirement already satisfied: pytz>=2020.1 in /Users/javi.fong/Documents/envs/tensorflow-env/lib/python3.11/site-packages (from pandas->shap) (2024.2)\r\n",
      "Requirement already satisfied: tzdata>=2022.7 in /Users/javi.fong/Documents/envs/tensorflow-env/lib/python3.11/site-packages (from pandas->shap) (2024.2)\r\n",
      "Requirement already satisfied: joblib>=1.2.0 in /Users/javi.fong/Documents/envs/tensorflow-env/lib/python3.11/site-packages (from scikit-learn->shap) (1.4.2)\r\n",
      "Requirement already satisfied: threadpoolctl>=3.1.0 in /Users/javi.fong/Documents/envs/tensorflow-env/lib/python3.11/site-packages (from scikit-learn->shap) (3.5.0)\r\n",
      "Requirement already satisfied: six>=1.5 in /Users/javi.fong/Documents/envs/tensorflow-env/lib/python3.11/site-packages (from python-dateutil>=2.8.2->pandas->shap) (1.16.0)\r\n",
      "\r\n",
      "\u001B[1m[\u001B[0m\u001B[34;49mnotice\u001B[0m\u001B[1;39;49m]\u001B[0m\u001B[39;49m A new release of pip is available: \u001B[0m\u001B[31;49m23.2.1\u001B[0m\u001B[39;49m -> \u001B[0m\u001B[32;49m24.3.1\u001B[0m\r\n",
      "\u001B[1m[\u001B[0m\u001B[34;49mnotice\u001B[0m\u001B[1;39;49m]\u001B[0m\u001B[39;49m To update, run: \u001B[0m\u001B[32;49mpip install --upgrade pip\u001B[0m\r\n"
     ]
    }
   ],
   "source": [
    "!pip install xgboost shap utils"
   ],
   "metadata": {
    "collapsed": false,
    "ExecuteTime": {
     "end_time": "2024-11-08T23:31:00.951418Z",
     "start_time": "2024-11-08T23:30:59.490178Z"
    }
   },
   "id": "f9e6a49342e05476",
   "execution_count": 1
  },
  {
   "cell_type": "code",
   "outputs": [
    {
     "ename": "ModuleNotFoundError",
     "evalue": "No module named 'xgboost'",
     "output_type": "error",
     "traceback": [
      "\u001B[0;31m---------------------------------------------------------------------------\u001B[0m",
      "\u001B[0;31mModuleNotFoundError\u001B[0m                       Traceback (most recent call last)",
      "Cell \u001B[0;32mIn[2], line 6\u001B[0m\n\u001B[1;32m      2\u001B[0m \u001B[38;5;28;01mimport\u001B[39;00m \u001B[38;5;21;01mpandas\u001B[39;00m \u001B[38;5;28;01mas\u001B[39;00m \u001B[38;5;21;01mpd\u001B[39;00m\n\u001B[1;32m      4\u001B[0m \u001B[38;5;28;01mimport\u001B[39;00m \u001B[38;5;21;01mmatplotlib\u001B[39;00m\u001B[38;5;21;01m.\u001B[39;00m\u001B[38;5;21;01mpyplot\u001B[39;00m \u001B[38;5;28;01mas\u001B[39;00m \u001B[38;5;21;01mplt\u001B[39;00m\n\u001B[0;32m----> 6\u001B[0m \u001B[38;5;28;01mimport\u001B[39;00m \u001B[38;5;21;01mxgboost\u001B[39;00m \u001B[38;5;28;01mas\u001B[39;00m \u001B[38;5;21;01mxgb\u001B[39;00m\n\u001B[1;32m      7\u001B[0m \u001B[38;5;28;01mfrom\u001B[39;00m \u001B[38;5;21;01mxgboost\u001B[39;00m \u001B[38;5;28;01mimport\u001B[39;00m plot_importance\n\u001B[1;32m      9\u001B[0m \u001B[38;5;28;01mimport\u001B[39;00m \u001B[38;5;21;01mshap\u001B[39;00m\n",
      "\u001B[0;31mModuleNotFoundError\u001B[0m: No module named 'xgboost'"
     ]
    }
   ],
   "source": [
    "#Imports\n",
    "import pandas as pd\n",
    "\n",
    "import matplotlib.pyplot as plt\n",
    "\n",
    "import xgboost as xgb\n",
    "from xgboost import plot_importance\n",
    "\n",
    "import shap\n",
    "shap.initjs()\n",
    "\n",
    "import sys\n",
    "sys.path.append('../')\n",
    "import utils"
   ],
   "metadata": {
    "collapsed": false,
    "ExecuteTime": {
     "end_time": "2024-11-08T23:31:03.437303Z",
     "start_time": "2024-11-08T23:31:02.656856Z"
    }
   },
   "id": "5b4dbe8dc889be23",
   "execution_count": 2
  },
  {
   "cell_type": "code",
   "outputs": [],
   "source": [
    "#Load the dataset\n",
    "data = pd.read_csv(\"https://raw.githubusercontent.com/fenago/datasets/refs/heads/main/insurance.csv\")\n",
    "\n",
    "print(\"Number of rows: {}\".format(len(data)))\n",
    "data.head(10)"
   ],
   "metadata": {
    "collapsed": false
   },
   "id": "3a4551cbb53a2875"
  },
  {
   "cell_type": "code",
   "outputs": [],
   "source": [
    "#Feature engineering\n",
    "data['sex'] = [1 if s =='male' else 0 for s in data['sex']]\n",
    "data['smoker'] = [1 if s =='yes' else 0 for s in data['smoker']]\n",
    "\n",
    "data['region.SW'] = [1 if r =='southwest' else 0 for r in data['region']]\n",
    "data['region.SE'] = [1 if r =='southeast' else 0 for r in data['region']]\n",
    "data['region.NW'] = [1 if r =='northwest' else 0 for r in data['region']]\n",
    "data['region.NE'] = [1 if r =='northeast' else 0 for r in data['region']]\n",
    "\n",
    "data = data.drop('region', axis=1)\n",
    "\n",
    "data.head(10)"
   ],
   "metadata": {
    "collapsed": false
   },
   "id": "f818678ac9b79c33"
  },
  {
   "cell_type": "code",
   "outputs": [],
   "source": [
    "y = data['charges']\n",
    "X = data.drop('charges', axis=1)\n",
    "\n",
    "#Train model\n",
    "model = xgb.XGBRegressor(objective=\"reg:squarederror\"\n",
    "                         ,n_estimators=10) \n",
    "model.fit(X, y)\n",
    "\n",
    "#Get predictions\n",
    "y_pred = model.predict(X)\n",
    "\n",
    "#Model evaluation\n",
    "fig, ax = plt.subplots(nrows=1, ncols=1,figsize=(8,8))\n",
    "\n",
    "plt.scatter(y,y_pred)\n",
    "plt.plot([0, 60000], [0, 60000], color='r', linestyle='-', linewidth=2)\n",
    "\n",
    "plt.ylabel('Predicted',size=20)\n",
    "plt.xlabel('Actual',size=20)"
   ],
   "metadata": {
    "collapsed": false
   },
   "id": "e54151780d1227b5"
  }
 ],
 "metadata": {
  "kernelspec": {
   "name": "venv_kernel",
   "language": "python",
   "display_name": "venv_kernel"
  },
  "language_info": {
   "codemirror_mode": {
    "name": "ipython",
    "version": 2
   },
   "file_extension": ".py",
   "mimetype": "text/x-python",
   "name": "python",
   "nbconvert_exporter": "python",
   "pygments_lexer": "ipython2",
   "version": "2.7.6"
  }
 },
 "nbformat": 4,
 "nbformat_minor": 5
}
